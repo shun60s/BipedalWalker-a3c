{
  "nbformat": 4,
  "nbformat_minor": 0,
  "metadata": {
    "colab": {
      "name": "BipedalWalker-v2_Colab.ipynb",
      "private_outputs": true,
      "provenance": [],
      "collapsed_sections": []
    },
    "kernelspec": {
      "name": "python3",
      "display_name": "Python 3"
    },
    "accelerator": "GPU"
  },
  "cells": [
    {
      "cell_type": "markdown",
      "metadata": {
        "id": "Q6OAfwUEQ2dV"
      },
      "source": [
        ""
      ]
    },
    {
      "cell_type": "markdown",
      "metadata": {
        "id": "G2-EtV_r0-rU"
      },
      "source": [
        "**Try to solve OpenAI Gym BipedalWalker-v2 by reinforcement-learning A3C**\r\n",
        "\r\n",
        "in google colaboratory (CPU)"
      ]
    },
    {
      "cell_type": "markdown",
      "metadata": {
        "id": "NkzSx6TM6STr"
      },
      "source": [
        "**Install module of BipedalWalker version 2**"
      ]
    },
    {
      "cell_type": "code",
      "metadata": {
        "id": "EzQ32C2pdhBX"
      },
      "source": [
        "!pip install torch==1.5.0 torchvision==0.6.0 torchaudio==0.5.0 setproctitle==1.1.10\r\n",
        "!pip3 install box2d-py==2.3.5\r\n",
        "!pip3 install 'gym[Box2D]'==0.10.11\r\n",
        "!pip3 install pyglet==1.3.2\r\n",
        "\r\n"
      ],
      "execution_count": null,
      "outputs": []
    },
    {
      "cell_type": "markdown",
      "metadata": {
        "id": "7MTCScmS6lEr"
      },
      "source": [
        "**Clone source files**"
      ]
    },
    {
      "cell_type": "code",
      "metadata": {
        "id": "LWBQWxpXcSqc"
      },
      "source": [
        "!git clone https://github.com/shun60s/BipedalWalker-a3c_continuous-clone"
      ],
      "execution_count": null,
      "outputs": []
    },
    {
      "cell_type": "code",
      "metadata": {
        "id": "hltV-ECfcmeG"
      },
      "source": [
        "cd BipedalWalker-a3c_continuous-clone/"
      ],
      "execution_count": null,
      "outputs": []
    },
    {
      "cell_type": "markdown",
      "metadata": {
        "id": "I8v7rcz97TE8"
      },
      "source": [
        "**Check file tree**"
      ]
    },
    {
      "cell_type": "code",
      "metadata": {
        "id": "YJJp4cDI7QsF"
      },
      "source": [
        "!ls -l"
      ],
      "execution_count": null,
      "outputs": []
    },
    {
      "cell_type": "markdown",
      "metadata": {
        "id": "iKo9HFuJdjPE"
      },
      "source": [
        "**train BipedalWalker-v2**\r\n",
        "\r\n",
        "Stop manually to push play button."
      ]
    },
    {
      "cell_type": "code",
      "metadata": {
        "id": "cF2JghcPc-01"
      },
      "source": [
        "!python main.py --workers 6 --env BipedalWalker-v2 --save-max True --model MLP --stack-frames 1 --gpu-ids -1"
      ],
      "execution_count": null,
      "outputs": []
    },
    {
      "cell_type": "markdown",
      "metadata": {
        "id": "JCydQHgId9Iy"
      },
      "source": [
        "Eval trained model.  Output mp4 file will be saved."
      ]
    },
    {
      "cell_type": "code",
      "metadata": {
        "id": "tMSyoMFHfccb"
      },
      "source": [
        "!apt-get -qq -y install xvfb freeglut3-dev ffmpeg\r\n",
        "!pip -q install pyglet\r\n",
        "!pip -q install pyopengl\r\n",
        "!pip -q install pyvirtualdisplay\r\n",
        "!pip install pyyaml==3.12"
      ],
      "execution_count": null,
      "outputs": []
    },
    {
      "cell_type": "code",
      "metadata": {
        "id": "EMAyFQMwe4_V"
      },
      "source": [
        "# Start virtual display\r\n",
        "from pyvirtualdisplay import Display\r\n",
        "display = Display(visible=0, size=(1024, 768))\r\n",
        "display.start()\r\n",
        "import os"
      ],
      "execution_count": null,
      "outputs": []
    },
    {
      "cell_type": "code",
      "metadata": {
        "id": "zcdJqqw0c-ng"
      },
      "source": [
        "!python gym_eval.py --env BipedalWalker-v2 --num-episodes 100 --stack-frames 1 --model MLP --new-gym-eval True"
      ],
      "execution_count": null,
      "outputs": []
    },
    {
      "cell_type": "markdown",
      "metadata": {
        "id": "WXh9CRwh48Qj"
      },
      "source": [
        "**Show output mp4 list**"
      ]
    },
    {
      "cell_type": "code",
      "metadata": {
        "id": "AwCfS1ZtuCIQ"
      },
      "source": [
        "!ls BipedalWalker-v2_monitor/*.mp4\r\n"
      ],
      "execution_count": null,
      "outputs": []
    },
    {
      "cell_type": "markdown",
      "metadata": {
        "id": "6otw6LbN4sRo"
      },
      "source": [
        "**Load previous model file and train again !**"
      ]
    },
    {
      "cell_type": "code",
      "metadata": {
        "id": "sGkwcFvw4l7a"
      },
      "source": [
        "!python main.py --workers 6 --env BipedalWalker-v2 --load True --save-max True --model MLP --stack-frames 1 --gpu-ids -1"
      ],
      "execution_count": null,
      "outputs": []
    }
  ]
}